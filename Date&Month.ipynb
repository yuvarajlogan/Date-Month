{
 "cells": [
  {
   "cell_type": "code",
   "execution_count": 1,
   "id": "011f6578",
   "metadata": {},
   "outputs": [
    {
     "name": "stdout",
     "output_type": "stream",
     "text": [
      "Years:2012\n",
      "Month: 02\n",
      "Days :25\n",
      "Feburary  25th ,2012\n"
     ]
    }
   ],
   "source": [
    "#Month in List\n",
    "month=['January','Feburary ', 'March','April','May','June','July','August','September','October','November','December']\n",
    "\n",
    "#Date postfix\n",
    "end = ['st', 'nd', 'rd'] + 17 * ['th'] \\\n",
    "+ ['st', 'nd', 'rd'] + 7 * ['th'] \\\n",
    "+ ['st']\n",
    "\n",
    "\n",
    "year=input( 'Years:')\n",
    "Month=input('Month: ')\n",
    "day=input('Days :')\n",
    "\n",
    "# str-->int\n",
    "Month_num=int(Month)\n",
    "Day_num=int(day)\n",
    "\n",
    "#adjust indexing\n",
    "month_name=month[Month_num -1]\n",
    "original = day + end[Day_num-1]\n",
    "\n",
    "#Final Output\n",
    "print ((month_name) + \" \" +original +\" ,\"+ year)"
   ]
  },
  {
   "cell_type": "code",
   "execution_count": null,
   "id": "a4923874",
   "metadata": {},
   "outputs": [],
   "source": []
  }
 ],
 "metadata": {
  "kernelspec": {
   "display_name": "Python 3 (ipykernel)",
   "language": "python",
   "name": "python3"
  },
  "language_info": {
   "codemirror_mode": {
    "name": "ipython",
    "version": 3
   },
   "file_extension": ".py",
   "mimetype": "text/x-python",
   "name": "python",
   "nbconvert_exporter": "python",
   "pygments_lexer": "ipython3",
   "version": "3.9.6"
  }
 },
 "nbformat": 4,
 "nbformat_minor": 5
}
